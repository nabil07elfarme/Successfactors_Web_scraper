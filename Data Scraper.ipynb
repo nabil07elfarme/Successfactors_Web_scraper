{
 "cells": [
  {
   "cell_type": "code",
   "execution_count": 11,
   "metadata": {},
   "outputs": [],
   "source": [
    "from bs4 import BeautifulSoup\n",
    "import pandas as pd\n",
    "import requests\n",
    "from playwright.sync_api import sync_playwright\n",
    "import time\n"
   ]
  },
  {
   "cell_type": "code",
   "execution_count": null,
   "metadata": {},
   "outputs": [],
   "source": [
    "# Launch the Playwright and create a new browser instance\n",
    "with sync_playwright() as p:\n",
    "    browser = p.chromium.launch()\n",
    "    page = browser.new_page()\n",
    "\n",
    "    # Navigate to the target URL\n",
    "    page.goto(\"https://career2.successfactors.eu/portalcareer?company=ump&career%5fns=job%5flisting%5fsummary&navBarLevel=JOB%5fSEARCH&_s.crb=TDR5NSydm2PaVGPZuIYVUH1Bo7amz3qFPL45aIxj%2fmA%3d\")\n",
    "\n",
    "    # Store HTML job listings in a list\n",
    "    html_jobs = []\n",
    "    for i in range(75):\n",
    "        # Locate the job search results\n",
    "        Jobs = page.locator(\"td.jobSearchResults\")\n",
    "\n",
    "        # Pause execution for 3 seconds to ensure the page is fully loaded\n",
    "        time.sleep(3)\n",
    "\n",
    "        # Append the inner HTML of the job listings to the list\n",
    "        html_jobs.append(Jobs.inner_html())\n",
    "\n",
    "        # Click on the next page button\n",
    "        page.locator('li.sfPaginatorArrowContainer.paginationArrowContainer.next a').nth(0).click()\n",
    "\n",
    "        # Capture a screenshot of the page (optional)\n",
    "        page.screenshot(path=f\"img{i}.png\")\n",
    "\n",
    "    # Close the browser\n",
    "    browser.close()  \n",
    "\n",
    "# Write the full HTML job listings to a file\n",
    "with open(\"full_html_job.html\", \"w+\", encoding=\"utf8\") as f:\n",
    "    full_html_job = \"\".join(html_jobs)\n",
    "    f.write(full_html_job)"
   ]
  },
  {
   "cell_type": "code",
   "execution_count": 3,
   "metadata": {},
   "outputs": [],
   "source": [
    "def getData(page):\n",
    "    # Create a BeautifulSoup object to parse the HTML page\n",
    "    soup = BeautifulSoup(page, \"html.parser\")\n",
    "\n",
    "    # Extract job titles\n",
    "    Jobs_title_result = soup.select('tr a.jobTitle')\n",
    "    Job_titles = [r.text for r in Jobs_title_result]\n",
    "\n",
    "    # Extract job title links\n",
    "    Jobs_links_result = soup.find_all('a', class_='jobTitle')\n",
    "    job_title_links = ['https://career2.successfactors.eu' + job_title['href'] for job_title in Jobs_links_result]\n",
    "\n",
    "    # Extract details for each job\n",
    "    details = soup.select('tr span.jobContentEM')\n",
    "    Id = [details[i].text for i in range(0, len(details), 4)]\n",
    "    Date = [details[i + 1].text[10:] for i in range(0, len(details), 4)]\n",
    "    Country = [details[i + 2].text for i in range(0, len(details), 4)]\n",
    "    Departement = [details[i + 3].text for i in range(0, len(details), 4)]\n",
    "\n",
    "    # Zip all the extracted information into a list of tuples and return it\n",
    "    return list(zip(Job_titles, Id, Date, Country, Departement, job_title_links))\n"
   ]
  },
  {
   "cell_type": "code",
   "execution_count": 7,
   "metadata": {},
   "outputs": [],
   "source": [
    "# Open the HTML file and read its content\n",
    "with open(\"full_html_job.html\", \"r\", encoding=\"utf8\") as f:\n",
    "    pages = f.read()\n",
    "\n",
    "# Extract job information from the HTML content\n",
    "Jobs_info = getData(pages)\n",
    "\n",
    "# Create a DataFrame to store the job information\n",
    "Jobs_df = pd.DataFrame(Jobs_info, columns=[\"Title\", \"Id\", \"Date\", \"Country\", \"Departement\", \"link\"])\n"
   ]
  },
  {
   "cell_type": "code",
   "execution_count": 9,
   "metadata": {},
   "outputs": [
    {
     "data": {
      "text/plain": [
       "(744, 6)"
      ]
     },
     "execution_count": 9,
     "metadata": {},
     "output_type": "execute_result"
    }
   ],
   "source": [
    "Jobs_df.shape\n"
   ]
  },
  {
   "cell_type": "code",
   "execution_count": 10,
   "metadata": {},
   "outputs": [
    {
     "data": {
      "text/html": [
       "<div>\n",
       "<style scoped>\n",
       "    .dataframe tbody tr th:only-of-type {\n",
       "        vertical-align: middle;\n",
       "    }\n",
       "\n",
       "    .dataframe tbody tr th {\n",
       "        vertical-align: top;\n",
       "    }\n",
       "\n",
       "    .dataframe thead th {\n",
       "        text-align: right;\n",
       "    }\n",
       "</style>\n",
       "<table border=\"1\" class=\"dataframe\">\n",
       "  <thead>\n",
       "    <tr style=\"text-align: right;\">\n",
       "      <th></th>\n",
       "      <th>Title</th>\n",
       "      <th>Id</th>\n",
       "      <th>Date</th>\n",
       "      <th>Country</th>\n",
       "      <th>Departement</th>\n",
       "      <th>link</th>\n",
       "    </tr>\n",
       "  </thead>\n",
       "  <tbody>\n",
       "    <tr>\n",
       "      <th>0</th>\n",
       "      <td>Postdoctoral Fellow on Environmental Microbiology</td>\n",
       "      <td>8071</td>\n",
       "      <td>04/28/2023</td>\n",
       "      <td>Morocco</td>\n",
       "      <td>Engineering</td>\n",
       "      <td>https://career2.successfactors.eu/career?caree...</td>\n",
       "    </tr>\n",
       "    <tr>\n",
       "      <th>1</th>\n",
       "      <td>Business Operations Manager - Phosphate Valley...</td>\n",
       "      <td>9097</td>\n",
       "      <td>04/28/2023</td>\n",
       "      <td>Morocco</td>\n",
       "      <td>Sales Training</td>\n",
       "      <td>https://career2.successfactors.eu/career?caree...</td>\n",
       "    </tr>\n",
       "    <tr>\n",
       "      <th>2</th>\n",
       "      <td>Business Operations Manager - Phosphate Valley...</td>\n",
       "      <td>9099</td>\n",
       "      <td>04/28/2023</td>\n",
       "      <td>Morocco</td>\n",
       "      <td>Sales Training</td>\n",
       "      <td>https://career2.successfactors.eu/career?caree...</td>\n",
       "    </tr>\n",
       "    <tr>\n",
       "      <th>3</th>\n",
       "      <td>Professeurs affiliés</td>\n",
       "      <td>9057</td>\n",
       "      <td>04/20/2023</td>\n",
       "      <td>Morocco</td>\n",
       "      <td>Engineering</td>\n",
       "      <td>https://career2.successfactors.eu/career?caree...</td>\n",
       "    </tr>\n",
       "    <tr>\n",
       "      <th>4</th>\n",
       "      <td>Technicien Agricole</td>\n",
       "      <td>9012</td>\n",
       "      <td>04/20/2023</td>\n",
       "      <td>Morocco</td>\n",
       "      <td>Engineering</td>\n",
       "      <td>https://career2.successfactors.eu/career?caree...</td>\n",
       "    </tr>\n",
       "  </tbody>\n",
       "</table>\n",
       "</div>"
      ],
      "text/plain": [
       "                                               Title    Id        Date  \\\n",
       "0  Postdoctoral Fellow on Environmental Microbiology  8071  04/28/2023   \n",
       "1  Business Operations Manager - Phosphate Valley...  9097  04/28/2023   \n",
       "2  Business Operations Manager - Phosphate Valley...  9099  04/28/2023   \n",
       "3                               Professeurs affiliés  9057  04/20/2023   \n",
       "4                                Technicien Agricole  9012  04/20/2023   \n",
       "\n",
       "   Country     Departement                                               link  \n",
       "0  Morocco     Engineering  https://career2.successfactors.eu/career?caree...  \n",
       "1  Morocco  Sales Training  https://career2.successfactors.eu/career?caree...  \n",
       "2  Morocco  Sales Training  https://career2.successfactors.eu/career?caree...  \n",
       "3  Morocco     Engineering  https://career2.successfactors.eu/career?caree...  \n",
       "4  Morocco     Engineering  https://career2.successfactors.eu/career?caree...  "
      ]
     },
     "execution_count": 10,
     "metadata": {},
     "output_type": "execute_result"
    }
   ],
   "source": [
    "Jobs_df.head()"
   ]
  },
  {
   "cell_type": "code",
   "execution_count": 12,
   "metadata": {},
   "outputs": [],
   "source": [
    "# Loop over each row of the DataFrame\n",
    "job_descriptions = []\n",
    "for index, row in Jobs_df.iterrows():\n",
    "    link = row['link'] # get the value in the 'links' column for this row\n",
    "    response = requests.get(link) # send a request to the link\n",
    "    soup = BeautifulSoup(response.text, 'html.parser') # parse the HTML content\n",
    "    job_description = soup.find('div', class_='joqReqDescription').text\n",
    "    job_descriptions.append(job_description)\n"
   ]
  },
  {
   "cell_type": "code",
   "execution_count": 19,
   "metadata": {},
   "outputs": [],
   "source": [
    "Jobs_df_F = Jobs_df\n",
    "Jobs_df_F[\"job_description\"] = job_descriptions"
   ]
  },
  {
   "cell_type": "code",
   "execution_count": 21,
   "metadata": {},
   "outputs": [
    {
     "data": {
      "text/html": [
       "<div>\n",
       "<style scoped>\n",
       "    .dataframe tbody tr th:only-of-type {\n",
       "        vertical-align: middle;\n",
       "    }\n",
       "\n",
       "    .dataframe tbody tr th {\n",
       "        vertical-align: top;\n",
       "    }\n",
       "\n",
       "    .dataframe thead th {\n",
       "        text-align: right;\n",
       "    }\n",
       "</style>\n",
       "<table border=\"1\" class=\"dataframe\">\n",
       "  <thead>\n",
       "    <tr style=\"text-align: right;\">\n",
       "      <th></th>\n",
       "      <th>Title</th>\n",
       "      <th>Id</th>\n",
       "      <th>Date</th>\n",
       "      <th>Country</th>\n",
       "      <th>Departement</th>\n",
       "      <th>link</th>\n",
       "      <th>job_description</th>\n",
       "    </tr>\n",
       "  </thead>\n",
       "  <tbody>\n",
       "    <tr>\n",
       "      <th>0</th>\n",
       "      <td>Postdoctoral Fellow on Environmental Microbiology</td>\n",
       "      <td>8071</td>\n",
       "      <td>04/28/2023</td>\n",
       "      <td>Morocco</td>\n",
       "      <td>Engineering</td>\n",
       "      <td>https://career2.successfactors.eu/career?caree...</td>\n",
       "      <td>\\n\\nMohammed VI Polytechnic University is an i...</td>\n",
       "    </tr>\n",
       "    <tr>\n",
       "      <th>1</th>\n",
       "      <td>Business Operations Manager - Phosphate Valley...</td>\n",
       "      <td>9097</td>\n",
       "      <td>04/28/2023</td>\n",
       "      <td>Morocco</td>\n",
       "      <td>Sales Training</td>\n",
       "      <td>https://career2.successfactors.eu/career?caree...</td>\n",
       "      <td>\\n\\nMohammed VI Polytechnic University is an i...</td>\n",
       "    </tr>\n",
       "    <tr>\n",
       "      <th>2</th>\n",
       "      <td>Business Operations Manager - Phosphate Valley...</td>\n",
       "      <td>9099</td>\n",
       "      <td>04/28/2023</td>\n",
       "      <td>Morocco</td>\n",
       "      <td>Sales Training</td>\n",
       "      <td>https://career2.successfactors.eu/career?caree...</td>\n",
       "      <td>\\n\\nMohammed VI Polytechnic University is an i...</td>\n",
       "    </tr>\n",
       "    <tr>\n",
       "      <th>3</th>\n",
       "      <td>Professeurs affiliés</td>\n",
       "      <td>9057</td>\n",
       "      <td>04/20/2023</td>\n",
       "      <td>Morocco</td>\n",
       "      <td>Engineering</td>\n",
       "      <td>https://career2.successfactors.eu/career?caree...</td>\n",
       "      <td>\\n\\nAbout UM6P:\\n \\nLocated at the heart of th...</td>\n",
       "    </tr>\n",
       "    <tr>\n",
       "      <th>4</th>\n",
       "      <td>Technicien Agricole</td>\n",
       "      <td>9012</td>\n",
       "      <td>04/20/2023</td>\n",
       "      <td>Morocco</td>\n",
       "      <td>Engineering</td>\n",
       "      <td>https://career2.successfactors.eu/career?caree...</td>\n",
       "      <td>\\n\\nMohammed VI Polytechnic University is an i...</td>\n",
       "    </tr>\n",
       "  </tbody>\n",
       "</table>\n",
       "</div>"
      ],
      "text/plain": [
       "                                               Title    Id        Date  \\\n",
       "0  Postdoctoral Fellow on Environmental Microbiology  8071  04/28/2023   \n",
       "1  Business Operations Manager - Phosphate Valley...  9097  04/28/2023   \n",
       "2  Business Operations Manager - Phosphate Valley...  9099  04/28/2023   \n",
       "3                               Professeurs affiliés  9057  04/20/2023   \n",
       "4                                Technicien Agricole  9012  04/20/2023   \n",
       "\n",
       "   Country     Departement                                               link  \\\n",
       "0  Morocco     Engineering  https://career2.successfactors.eu/career?caree...   \n",
       "1  Morocco  Sales Training  https://career2.successfactors.eu/career?caree...   \n",
       "2  Morocco  Sales Training  https://career2.successfactors.eu/career?caree...   \n",
       "3  Morocco     Engineering  https://career2.successfactors.eu/career?caree...   \n",
       "4  Morocco     Engineering  https://career2.successfactors.eu/career?caree...   \n",
       "\n",
       "                                     job_description  \n",
       "0  \\n\\nMohammed VI Polytechnic University is an i...  \n",
       "1  \\n\\nMohammed VI Polytechnic University is an i...  \n",
       "2  \\n\\nMohammed VI Polytechnic University is an i...  \n",
       "3  \\n\\nAbout UM6P:\\n \\nLocated at the heart of th...  \n",
       "4  \\n\\nMohammed VI Polytechnic University is an i...  "
      ]
     },
     "execution_count": 21,
     "metadata": {},
     "output_type": "execute_result"
    }
   ],
   "source": [
    "Jobs_df_F.head()"
   ]
  },
  {
   "cell_type": "code",
   "execution_count": 27,
   "metadata": {},
   "outputs": [],
   "source": [
    "Jobs_df_F.to_csv(\"Um6p_Jobs.csv\", sep=',', index=False, encoding='utf-8')"
   ]
  },
  {
   "cell_type": "code",
   "execution_count": null,
   "metadata": {},
   "outputs": [],
   "source": []
  }
 ],
 "metadata": {
  "kernelspec": {
   "display_name": "Python 3 (ipykernel)",
   "language": "python",
   "name": "python3"
  },
  "language_info": {
   "codemirror_mode": {
    "name": "ipython",
    "version": 3
   },
   "file_extension": ".py",
   "mimetype": "text/x-python",
   "name": "python",
   "nbconvert_exporter": "python",
   "pygments_lexer": "ipython3",
   "version": "3.10.9"
  }
 },
 "nbformat": 4,
 "nbformat_minor": 2
}
